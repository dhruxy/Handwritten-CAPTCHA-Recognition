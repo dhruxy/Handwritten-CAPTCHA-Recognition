{
 "cells": [
  {
   "cell_type": "code",
   "execution_count": 1,
   "id": "606e7e36",
   "metadata": {},
   "outputs": [],
   "source": [
    "import os"
   ]
  },
  {
   "cell_type": "code",
   "execution_count": 2,
   "id": "b5ab9521",
   "metadata": {},
   "outputs": [],
   "source": [
    "import cv2\n",
    "from imutils import contours\n",
    "import numpy as np\n",
    "\n",
    "\n",
    "def Segmentation(path, ROI_number):\n",
    "    image = cv2.imread(path)\n",
    "    image = cv2.resize(image, ((image.shape[0]*2), (image.shape[1]*2)))\n",
    "#     print(image.shape[0])\n",
    "    if image.shape[1] > image.shape[0]:\n",
    "        #         print(\"es\")\n",
    "        image = cv2.rotate(image, cv2.cv2.ROTATE_90_CLOCKWISE)\n",
    "    image = cv2.resize(image, ((1920), (1080)))\n",
    "    gray = cv2.cvtColor(image, cv2.COLOR_BGR2GRAY)\n",
    "    thresh = cv2.threshold(\n",
    "        gray, 250, 255, cv2.THRESH_OTSU + cv2.THRESH_BINARY)[1]\n",
    "    thresh = 255-thresh\n",
    "    cnts = cv2.findContours(thresh, cv2.RETR_EXTERNAL, cv2.CHAIN_APPROX_SIMPLE)\n",
    "    cnts = cnts[0] if len(cnts) == 2 else cnts[1]\n",
    "    cnts, _ = contours.sort_contours(cnts, method=\"left-to-right\")\n",
    "\n",
    "    max_area = 0\n",
    "\n",
    "    for c in cnts:\n",
    "        x, y, w, h = cv2.boundingRect(c)\n",
    "        area = w*h\n",
    "        max_area = max(max_area, area)\n",
    "\n",
    "#     ROI_number = 0\n",
    "    prevx = 0\n",
    "\n",
    "    path_list = []\n",
    "\n",
    "    for c in cnts:\n",
    "        image_path = \"DATA\\\\Hearts\"\n",
    "        x, y, w, h = cv2.boundingRect(c)\n",
    "        area = w*h\n",
    "        area_prev = 0\n",
    "        if area > max_area/8.5:\n",
    "#             area_prev = w*h\n",
    "            side = (w*h)**0.5\n",
    "            prevx = x+w\n",
    "            ROI = gray[y-10:y+h+10, max(0, x-(int)(0.25*side)):min(image.shape[1], x+w+(int)(0.25*side))]\n",
    "            ROI = cv2.threshold(\n",
    "                ROI, 250, 255, cv2.THRESH_OTSU + cv2.THRESH_BINARY)[1]\n",
    "            kernel = np.ones((3,3), np.uint8)\n",
    "            # ROI = cv2.erode(ROI, kernel, iterations=1)\n",
    "            ROI = cv2.resize(ROI, ((28), (28)))\n",
    "            ROI = ROI[:, 4:-4]\n",
    "            ROI = cv2.resize(ROI, ((28), (28)))\n",
    "            kernel = np.ones((3,3), np.uint8)\n",
    "            ROI = cv2.erode(ROI, kernel, iterations=1)\n",
    "            image_path += f'\\ROI_{ROI_number}.jpg'\n",
    "            cv2.imwrite(image_path, ROI)\n",
    "            cv2.rectangle(image, (x-(int)(0.25*side), y-10),\n",
    "                          (x + w+(int)(0.25*side), y + h+10), (36, 255, 12), 1)\n",
    "            ROI_number += 1\n",
    "            path_list.append(image_path)\n",
    "           \n",
    "    return path_list, ROI_number"
   ]
  },
  {
   "cell_type": "code",
   "execution_count": 4,
   "id": "13ca209c",
   "metadata": {},
   "outputs": [],
   "source": [
    "ROI_number = 0\n",
    "test_folder = \"DATA\\\\Emoji Dataset\\\\heart\"\n",
    "for i in os.listdir(test_folder):\n",
    "    path = f\"{test_folder}\\\\{i}\"\n",
    "    _, ROI_number = Segmentation(path,ROI_number)"
   ]
  },
  {
   "cell_type": "code",
   "execution_count": null,
   "id": "8aa7265e",
   "metadata": {},
   "outputs": [],
   "source": []
  }
 ],
 "metadata": {
  "kernelspec": {
   "display_name": "Python 3 (ipykernel)",
   "language": "python",
   "name": "python3"
  },
  "language_info": {
   "codemirror_mode": {
    "name": "ipython",
    "version": 3
   },
   "file_extension": ".py",
   "mimetype": "text/x-python",
   "name": "python",
   "nbconvert_exporter": "python",
   "pygments_lexer": "ipython3",
   "version": "3.7.9"
  }
 },
 "nbformat": 4,
 "nbformat_minor": 5
}
