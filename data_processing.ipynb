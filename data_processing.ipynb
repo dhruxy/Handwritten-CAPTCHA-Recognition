{
 "cells": [
  {
   "cell_type": "code",
   "execution_count": 7,
   "id": "d486fa43",
   "metadata": {},
   "outputs": [],
   "source": [
    "import cv2\n",
    "import os\n",
    "import pandas as pd\n",
    "import numpy as np"
   ]
  },
  {
   "cell_type": "markdown",
   "id": "5c6bdd4e",
   "metadata": {},
   "source": [
    "CREATING LETTER DATASET CSV"
   ]
  },
  {
   "cell_type": "code",
   "execution_count": 8,
   "id": "7ad6c351",
   "metadata": {},
   "outputs": [
    {
     "data": {
      "text/html": [
       "<div>\n",
       "<style scoped>\n",
       "    .dataframe tbody tr th:only-of-type {\n",
       "        vertical-align: middle;\n",
       "    }\n",
       "\n",
       "    .dataframe tbody tr th {\n",
       "        vertical-align: top;\n",
       "    }\n",
       "\n",
       "    .dataframe thead th {\n",
       "        text-align: right;\n",
       "    }\n",
       "</style>\n",
       "<table border=\"1\" class=\"dataframe\">\n",
       "  <thead>\n",
       "    <tr style=\"text-align: right;\">\n",
       "      <th></th>\n",
       "      <th>41</th>\n",
       "      <th>0</th>\n",
       "      <th>0.1</th>\n",
       "      <th>0.2</th>\n",
       "      <th>0.3</th>\n",
       "      <th>0.4</th>\n",
       "      <th>0.5</th>\n",
       "      <th>0.6</th>\n",
       "      <th>0.7</th>\n",
       "      <th>0.8</th>\n",
       "      <th>...</th>\n",
       "      <th>0.523</th>\n",
       "      <th>0.524</th>\n",
       "      <th>0.525</th>\n",
       "      <th>0.526</th>\n",
       "      <th>0.527</th>\n",
       "      <th>0.528</th>\n",
       "      <th>0.529</th>\n",
       "      <th>0.530</th>\n",
       "      <th>0.531</th>\n",
       "      <th>0.532</th>\n",
       "    </tr>\n",
       "  </thead>\n",
       "  <tbody>\n",
       "    <tr>\n",
       "      <th>0</th>\n",
       "      <td>39</td>\n",
       "      <td>0</td>\n",
       "      <td>0</td>\n",
       "      <td>0</td>\n",
       "      <td>0</td>\n",
       "      <td>0</td>\n",
       "      <td>0</td>\n",
       "      <td>0</td>\n",
       "      <td>0</td>\n",
       "      <td>0</td>\n",
       "      <td>...</td>\n",
       "      <td>0</td>\n",
       "      <td>0</td>\n",
       "      <td>0</td>\n",
       "      <td>0</td>\n",
       "      <td>0</td>\n",
       "      <td>0</td>\n",
       "      <td>0</td>\n",
       "      <td>0</td>\n",
       "      <td>0</td>\n",
       "      <td>0</td>\n",
       "    </tr>\n",
       "    <tr>\n",
       "      <th>1</th>\n",
       "      <td>9</td>\n",
       "      <td>0</td>\n",
       "      <td>0</td>\n",
       "      <td>0</td>\n",
       "      <td>0</td>\n",
       "      <td>0</td>\n",
       "      <td>0</td>\n",
       "      <td>0</td>\n",
       "      <td>0</td>\n",
       "      <td>0</td>\n",
       "      <td>...</td>\n",
       "      <td>0</td>\n",
       "      <td>0</td>\n",
       "      <td>0</td>\n",
       "      <td>0</td>\n",
       "      <td>0</td>\n",
       "      <td>0</td>\n",
       "      <td>0</td>\n",
       "      <td>0</td>\n",
       "      <td>0</td>\n",
       "      <td>0</td>\n",
       "    </tr>\n",
       "    <tr>\n",
       "      <th>2</th>\n",
       "      <td>26</td>\n",
       "      <td>0</td>\n",
       "      <td>0</td>\n",
       "      <td>0</td>\n",
       "      <td>0</td>\n",
       "      <td>0</td>\n",
       "      <td>0</td>\n",
       "      <td>0</td>\n",
       "      <td>0</td>\n",
       "      <td>0</td>\n",
       "      <td>...</td>\n",
       "      <td>0</td>\n",
       "      <td>0</td>\n",
       "      <td>0</td>\n",
       "      <td>0</td>\n",
       "      <td>0</td>\n",
       "      <td>0</td>\n",
       "      <td>0</td>\n",
       "      <td>0</td>\n",
       "      <td>0</td>\n",
       "      <td>0</td>\n",
       "    </tr>\n",
       "    <tr>\n",
       "      <th>3</th>\n",
       "      <td>44</td>\n",
       "      <td>0</td>\n",
       "      <td>0</td>\n",
       "      <td>0</td>\n",
       "      <td>0</td>\n",
       "      <td>0</td>\n",
       "      <td>0</td>\n",
       "      <td>0</td>\n",
       "      <td>0</td>\n",
       "      <td>0</td>\n",
       "      <td>...</td>\n",
       "      <td>0</td>\n",
       "      <td>0</td>\n",
       "      <td>0</td>\n",
       "      <td>0</td>\n",
       "      <td>0</td>\n",
       "      <td>0</td>\n",
       "      <td>0</td>\n",
       "      <td>0</td>\n",
       "      <td>0</td>\n",
       "      <td>0</td>\n",
       "    </tr>\n",
       "    <tr>\n",
       "      <th>4</th>\n",
       "      <td>33</td>\n",
       "      <td>0</td>\n",
       "      <td>0</td>\n",
       "      <td>0</td>\n",
       "      <td>0</td>\n",
       "      <td>0</td>\n",
       "      <td>0</td>\n",
       "      <td>0</td>\n",
       "      <td>0</td>\n",
       "      <td>0</td>\n",
       "      <td>...</td>\n",
       "      <td>0</td>\n",
       "      <td>0</td>\n",
       "      <td>0</td>\n",
       "      <td>0</td>\n",
       "      <td>0</td>\n",
       "      <td>0</td>\n",
       "      <td>0</td>\n",
       "      <td>0</td>\n",
       "      <td>0</td>\n",
       "      <td>0</td>\n",
       "    </tr>\n",
       "  </tbody>\n",
       "</table>\n",
       "<p>5 rows × 785 columns</p>\n",
       "</div>"
      ],
      "text/plain": [
       "   41  0  0.1  0.2  0.3  0.4  0.5  0.6  0.7  0.8  ...  0.523  0.524  0.525  \\\n",
       "0  39  0    0    0    0    0    0    0    0    0  ...      0      0      0   \n",
       "1   9  0    0    0    0    0    0    0    0    0  ...      0      0      0   \n",
       "2  26  0    0    0    0    0    0    0    0    0  ...      0      0      0   \n",
       "3  44  0    0    0    0    0    0    0    0    0  ...      0      0      0   \n",
       "4  33  0    0    0    0    0    0    0    0    0  ...      0      0      0   \n",
       "\n",
       "   0.526  0.527  0.528  0.529  0.530  0.531  0.532  \n",
       "0      0      0      0      0      0      0      0  \n",
       "1      0      0      0      0      0      0      0  \n",
       "2      0      0      0      0      0      0      0  \n",
       "3      0      0      0      0      0      0      0  \n",
       "4      0      0      0      0      0      0      0  \n",
       "\n",
       "[5 rows x 785 columns]"
      ]
     },
     "execution_count": 8,
     "metadata": {},
     "output_type": "execute_result"
    }
   ],
   "source": [
    "df = pd.read_csv('DATA\\\\emnist-balanced.csv')\n",
    "df.head()"
   ]
  },
  {
   "cell_type": "code",
   "execution_count": 9,
   "id": "cc6c3418",
   "metadata": {},
   "outputs": [],
   "source": [
    "for i in range(10):\n",
    "     df = df[df['41'] != i]\n",
    "list = [11,13,15,16,18,19,20,21,22,24,26,31,36,39,40,41,42,45]\n",
    "for i in list:\n",
    "     df = df[df['41'] != i]"
   ]
  },
  {
   "cell_type": "code",
   "execution_count": 10,
   "id": "a0e4bf4e",
   "metadata": {},
   "outputs": [
    {
     "data": {
      "text/plain": [
       "19"
      ]
     },
     "execution_count": 10,
     "metadata": {},
     "output_type": "execute_result"
    }
   ],
   "source": [
    "len(df['41'].unique())"
   ]
  },
  {
   "cell_type": "code",
   "execution_count": 11,
   "id": "1ffd3029",
   "metadata": {},
   "outputs": [],
   "source": [
    "label = df['41']\n",
    "df.drop(['41'], axis=1, inplace=True)\n",
    "df = 255-df\n",
    "df = pd.concat([label,df], axis=1)"
   ]
  },
  {
   "cell_type": "code",
   "execution_count": 12,
   "id": "765a96ec",
   "metadata": {},
   "outputs": [],
   "source": [
    "df.to_csv(\"DATA\\\\letter-dataset.csv\",index=False, header=None)"
   ]
  },
  {
   "cell_type": "markdown",
   "id": "a70aa629",
   "metadata": {},
   "source": [
    "CREATING EMOJI DATASET CSV"
   ]
  },
  {
   "cell_type": "code",
   "execution_count": 13,
   "id": "79ad96d2",
   "metadata": {},
   "outputs": [
    {
     "name": "stdout",
     "output_type": "stream",
     "text": [
      "0 checkmark\n",
      "1 cloud\n",
      "2 croissant\n",
      "3 heart\n",
      "4 laugh\n",
      "5 smile\n",
      "6 sun\n"
     ]
    }
   ],
   "source": [
    "images = []\n",
    "for num,i in enumerate(os.listdir('DATA\\\\Emoji Augmented')):\n",
    "    print(num,i)\n",
    "    s = 'DATA\\\\Emoji Augmented\\\\'\n",
    "    s += i\n",
    "    for _,j in enumerate(os.listdir(s)):\n",
    "        path = s+'\\\\'+j\n",
    "        image = []\n",
    "        img = cv2.imread(path, 0)\n",
    "        img = np.ravel(img)\n",
    "        label = 62+num\n",
    "        img = np.insert(img, 0, label, axis=0)\n",
    "#         print(img)\n",
    "        images.append(img)"
   ]
  },
  {
   "cell_type": "code",
   "execution_count": 14,
   "id": "c51fa33b",
   "metadata": {},
   "outputs": [],
   "source": [
    "images = np.array(images)\n",
    "df = pd.DataFrame(images)\n",
    "# save the dataframe as a csv file\n",
    "df.to_csv(\"DATA\\\\emoji-dataset.csv\",index=False, header=None)"
   ]
  },
  {
   "cell_type": "code",
   "execution_count": 15,
   "id": "4a73f614",
   "metadata": {},
   "outputs": [],
   "source": [
    "data = data2 = \"\"\n",
    "\n",
    "with open(\"DATA\\\\letter-dataset.csv\") as fp:\n",
    "    data = fp.read()\n",
    "  \n",
    "with open(\"DATA\\\\emoji-dataset.csv\") as fp:\n",
    "    data2 = fp.read()\n",
    "\n",
    "data += \"\\n\"\n",
    "data += data2\n",
    "  \n",
    "with open ('DATA\\\\combined-dataset.csv', 'w') as fp:\n",
    "    fp.write(data)"
   ]
  },
  {
   "cell_type": "code",
   "execution_count": null,
   "id": "8b3719c9",
   "metadata": {},
   "outputs": [],
   "source": []
  }
 ],
 "metadata": {
  "kernelspec": {
   "display_name": "Python 3 (ipykernel)",
   "language": "python",
   "name": "python3"
  },
  "language_info": {
   "codemirror_mode": {
    "name": "ipython",
    "version": 3
   },
   "file_extension": ".py",
   "mimetype": "text/x-python",
   "name": "python",
   "nbconvert_exporter": "python",
   "pygments_lexer": "ipython3",
   "version": "3.7.9"
  }
 },
 "nbformat": 4,
 "nbformat_minor": 5
}
